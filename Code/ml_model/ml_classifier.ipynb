{
 "cells": [
  {
   "cell_type": "markdown",
   "id": "8452a185",
   "metadata": {},
   "source": [
    "IMPORT THE DATASET FROM THE SOFTWARE METRICS DATASET FOR THE CLASSIFICATION"
   ]
  },
  {
   "cell_type": "code",
   "execution_count": 5,
   "id": "cbaaf7b8",
   "metadata": {},
   "outputs": [],
   "source": [
    "import pandas as pd"
   ]
  },
  {
   "cell_type": "code",
   "execution_count": 6,
   "id": "f5ba95d3",
   "metadata": {},
   "outputs": [],
   "source": [
    "LONG_METHOD_dataset = pd.read_csv(\"..\\..\\dataset-source\\embedding-dataset\\software-metrics\\LongMethod_code_metrics_values.csv\")\n",
    "GOD_CLASS_dataset = pd.read_csv(\"..\\..\\dataset-source\\embedding-dataset\\software-metrics\\GodClass_code_metrics_values.csv\")\n",
    "FEATURE_ENVY_dataset = pd.read_csv(\"..\\..\\dataset-source\\embedding-dataset\\software-metrics\\FeatureEnvy_code_metrics_values.csv\")\n",
    "DATA_CLASS_dataset = pd.read_csv(\"..\\..\\dataset-source\\embedding-dataset\\software-metrics\\DataClass_code_metrics_values.csv\")"
   ]
  },
  {
   "cell_type": "markdown",
   "id": "3316bbad",
   "metadata": {},
   "source": [
    "## PREPROCESSING "
   ]
  },
  {
   "cell_type": "code",
   "execution_count": 7,
   "id": "b757b85e",
   "metadata": {},
   "outputs": [
    {
     "name": "stdout",
     "output_type": "stream",
     "text": [
      "LONG_METHOD_dataset shape : (2408, 28) \n",
      "column names \n",
      " ['label', 'sample_id', 'constructor', 'cbo', 'wmc', 'rfc', 'loc', 'returnsQty', 'variablesQty', 'parametersQty', 'methodsInvokedQty', 'methodsInvokedLocalQty', 'methodsInvokedIndirectLocalQty', 'loopQty', 'comparisonsQty', 'tryCatchQty', 'parenthesizedExpsQty', 'stringLiteralsQty', 'numbersQty', 'assignmentsQty', 'mathOperationsQty', 'maxNestedBlocksQty', 'anonymousClassesQty', 'lambdasQty', 'uniqueWordsQty', 'modifiers', 'logStatementsQty', 'hasJavaDoc']\n"
     ]
    }
   ],
   "source": [
    "print(f\"LONG_METHOD_dataset shape : {LONG_METHOD_dataset.shape} \")\n",
    "print(f\"column names \\n {LONG_METHOD_dataset.columns.tolist()}\")"
   ]
  },
  {
   "cell_type": "code",
   "execution_count": 8,
   "id": "9a1c9a63",
   "metadata": {},
   "outputs": [
    {
     "name": "stdout",
     "output_type": "stream",
     "text": [
      "GOD_CLASS_dataset shape : (2159, 50) \n",
      "column names \n",
      " ['sample_id', 'label', 'cbo', 'wmc', 'dit', 'rfc', 'lcom', 'tcc', 'lcc', 'totalMethodsQty', 'staticMethodsQty', 'publicMethodsQty', 'privateMethodsQty', 'protectedMethodsQty', 'defaultMethodsQty', 'abstractMethodsQty', 'finalMethodsQty', 'synchronizedMethodsQty', 'totalFieldsQty', 'staticFieldsQty', 'publicFieldsQty', 'privateFieldsQty', 'protectedFieldsQty', 'defaultFieldsQty', 'visibleFieldsQty', 'finalFieldsQty', 'synchronizedFieldsQty', 'nosi', 'loc', 'returnQty', 'loopQty', 'comparisonsQty', 'tryCatchQty', 'parenthesizedExpsQty', 'stringLiteralsQty', 'numbersQty', 'assignmentsQty', 'mathOperationsQty', 'variablesQty', 'maxNestedBlocksQty', 'anonymousClassesQty', 'innerClassesQty', 'lambdasQty', 'uniqueWordsQty', 'modifiers', 'logStatementsQty', 'from_project', 'type_class', 'type_innerclass', 'type_interface']\n"
     ]
    }
   ],
   "source": [
    "print(f\"GOD_CLASS_dataset shape : {GOD_CLASS_dataset.shape} \")\n",
    "print(f\"column names \\n {GOD_CLASS_dataset.columns.tolist()}\")\n"
   ]
  },
  {
   "cell_type": "code",
   "execution_count": 9,
   "id": "c24969f4",
   "metadata": {},
   "outputs": [
    {
     "name": "stdout",
     "output_type": "stream",
     "text": [
      "FEATURE_ENVY_dataset shape : (2242, 31) \n",
      "column names \n",
      " ['sample_id', 'label', 'constructor', 'line', 'cbo', 'wmc', 'rfc', 'loc', 'returnsQty', 'variablesQty', 'parametersQty', 'methodsInvokedQty', 'methodsInvokedLocalQty', 'methodsInvokedIndirectLocalQty', 'loopQty', 'comparisonsQty', 'tryCatchQty', 'parenthesizedExpsQty', 'stringLiteralsQty', 'numbersQty', 'assignmentsQty', 'mathOperationsQty', 'maxNestedBlocksQty', 'anonymousClassesQty', 'innerClassesQty', 'lambdasQty', 'uniqueWordsQty', 'modifiers', 'logStatementsQty', 'hasJavaDoc', 'from_project']\n"
     ]
    }
   ],
   "source": [
    "print(f\"FEATURE_ENVY_dataset shape : {FEATURE_ENVY_dataset.shape} \")\n",
    "print(f\"column names \\n {FEATURE_ENVY_dataset.columns.tolist()}\")\n",
    "\n"
   ]
  },
  {
   "cell_type": "code",
   "execution_count": 10,
   "id": "21bdeecd",
   "metadata": {},
   "outputs": [
    {
     "name": "stdout",
     "output_type": "stream",
     "text": [
      "DATA_CLASS_dataset shape : (2159, 50) \n",
      "column names \n",
      " ['sample_id', 'label', 'cbo', 'wmc', 'dit', 'rfc', 'lcom', 'tcc', 'lcc', 'totalMethodsQty', 'staticMethodsQty', 'publicMethodsQty', 'privateMethodsQty', 'protectedMethodsQty', 'defaultMethodsQty', 'abstractMethodsQty', 'finalMethodsQty', 'synchronizedMethodsQty', 'totalFieldsQty', 'staticFieldsQty', 'publicFieldsQty', 'privateFieldsQty', 'protectedFieldsQty', 'defaultFieldsQty', 'visibleFieldsQty', 'finalFieldsQty', 'synchronizedFieldsQty', 'nosi', 'loc', 'returnQty', 'loopQty', 'comparisonsQty', 'tryCatchQty', 'parenthesizedExpsQty', 'stringLiteralsQty', 'numbersQty', 'assignmentsQty', 'mathOperationsQty', 'variablesQty', 'maxNestedBlocksQty', 'anonymousClassesQty', 'innerClassesQty', 'lambdasQty', 'uniqueWordsQty', 'modifiers', 'logStatementsQty', 'from_project', 'type_class', 'type_innerclass', 'type_interface']\n"
     ]
    }
   ],
   "source": [
    "print(f\"DATA_CLASS_dataset shape : {DATA_CLASS_dataset.shape} \")\n",
    "print(f\"column names \\n {DATA_CLASS_dataset.columns.tolist()}\")"
   ]
  },
  {
   "cell_type": "markdown",
   "id": "f0bc9444",
   "metadata": {},
   "source": [
    "CHECKING NULL VALUES"
   ]
  },
  {
   "cell_type": "code",
   "execution_count": 11,
   "id": "6b56eb7a",
   "metadata": {},
   "outputs": [
    {
     "name": "stdout",
     "output_type": "stream",
     "text": [
      "==================================================\n",
      "long method nan value checking\n",
      "==================================================\n",
      "label                             0\n",
      "sample_id                         0\n",
      "constructor                       0\n",
      "cbo                               0\n",
      "wmc                               0\n",
      "rfc                               0\n",
      "loc                               0\n",
      "returnsQty                        0\n",
      "variablesQty                      0\n",
      "parametersQty                     0\n",
      "methodsInvokedQty                 0\n",
      "methodsInvokedLocalQty            0\n",
      "methodsInvokedIndirectLocalQty    0\n",
      "loopQty                           0\n",
      "comparisonsQty                    0\n",
      "tryCatchQty                       0\n",
      "parenthesizedExpsQty              0\n",
      "stringLiteralsQty                 0\n",
      "numbersQty                        0\n",
      "assignmentsQty                    0\n",
      "mathOperationsQty                 0\n",
      "maxNestedBlocksQty                0\n",
      "anonymousClassesQty               0\n",
      "lambdasQty                        0\n",
      "uniqueWordsQty                    0\n",
      "modifiers                         0\n",
      "logStatementsQty                  0\n",
      "hasJavaDoc                        0\n",
      "dtype: int64\n",
      "\n",
      "\n"
     ]
    }
   ],
   "source": [
    "print(\"=\"*50)\n",
    "print(\"long method nan value checking\")\n",
    "print(\"=\"*50)\n",
    "print(LONG_METHOD_dataset.isna().sum())\n",
    "print(\"\\n\")"
   ]
  },
  {
   "cell_type": "code",
   "execution_count": 12,
   "id": "61ccc734",
   "metadata": {},
   "outputs": [
    {
     "name": "stdout",
     "output_type": "stream",
     "text": [
      "==================================================\n",
      "GOD_CLASS_dataset nan value checking\n",
      "==================================================\n",
      "sample_id                   0\n",
      "label                       0\n",
      "cbo                         0\n",
      "wmc                         0\n",
      "dit                         0\n",
      "rfc                         0\n",
      "lcom                        0\n",
      "tcc                       296\n",
      "lcc                       296\n",
      "totalMethodsQty             0\n",
      "staticMethodsQty            0\n",
      "publicMethodsQty            0\n",
      "privateMethodsQty           0\n",
      "protectedMethodsQty         0\n",
      "defaultMethodsQty           0\n",
      "abstractMethodsQty          0\n",
      "finalMethodsQty             0\n",
      "synchronizedMethodsQty      0\n",
      "totalFieldsQty              0\n",
      "staticFieldsQty             0\n",
      "publicFieldsQty             0\n",
      "privateFieldsQty            0\n",
      "protectedFieldsQty          0\n",
      "defaultFieldsQty            0\n",
      "visibleFieldsQty            0\n",
      "finalFieldsQty              0\n",
      "synchronizedFieldsQty       0\n",
      "nosi                        0\n",
      "loc                         0\n",
      "returnQty                   0\n",
      "loopQty                     0\n",
      "comparisonsQty              0\n",
      "tryCatchQty                 0\n",
      "parenthesizedExpsQty        0\n",
      "stringLiteralsQty           0\n",
      "numbersQty                  0\n",
      "assignmentsQty              0\n",
      "mathOperationsQty           0\n",
      "variablesQty                0\n",
      "maxNestedBlocksQty          0\n",
      "anonymousClassesQty         0\n",
      "innerClassesQty             0\n",
      "lambdasQty                  0\n",
      "uniqueWordsQty              0\n",
      "modifiers                   0\n",
      "logStatementsQty            0\n",
      "from_project                0\n",
      "type_class                  0\n",
      "type_innerclass             0\n",
      "type_interface              0\n",
      "dtype: int64\n",
      "\n",
      "\n"
     ]
    }
   ],
   "source": [
    "print(\"=\"*50)\n",
    "print(\"GOD_CLASS_dataset nan value checking\")\n",
    "print(\"=\"*50)\n",
    "print(GOD_CLASS_dataset.isna().sum())\n",
    "print(\"\\n\")"
   ]
  },
  {
   "cell_type": "code",
   "execution_count": 13,
   "id": "b6594eba",
   "metadata": {},
   "outputs": [
    {
     "name": "stdout",
     "output_type": "stream",
     "text": [
      "==================================================\n",
      "FEATURE_ENVY_dataset nan value checking\n",
      "==================================================\n",
      "sample_id                         0\n",
      "label                             0\n",
      "constructor                       0\n",
      "line                              0\n",
      "cbo                               0\n",
      "wmc                               0\n",
      "rfc                               0\n",
      "loc                               0\n",
      "returnsQty                        0\n",
      "variablesQty                      0\n",
      "parametersQty                     0\n",
      "methodsInvokedQty                 0\n",
      "methodsInvokedLocalQty            0\n",
      "methodsInvokedIndirectLocalQty    0\n",
      "loopQty                           0\n",
      "comparisonsQty                    0\n",
      "tryCatchQty                       0\n",
      "parenthesizedExpsQty              0\n",
      "stringLiteralsQty                 0\n",
      "numbersQty                        0\n",
      "assignmentsQty                    0\n",
      "mathOperationsQty                 0\n",
      "maxNestedBlocksQty                0\n",
      "anonymousClassesQty               0\n",
      "innerClassesQty                   0\n",
      "lambdasQty                        0\n",
      "uniqueWordsQty                    0\n",
      "modifiers                         0\n",
      "logStatementsQty                  0\n",
      "hasJavaDoc                        0\n",
      "from_project                      0\n",
      "dtype: int64\n",
      "\n",
      "\n"
     ]
    }
   ],
   "source": [
    "print(\"=\"*50)\n",
    "print(\"FEATURE_ENVY_dataset nan value checking\")\n",
    "print(\"=\"*50)\n",
    "print(FEATURE_ENVY_dataset.isna().sum())\n",
    "print(\"\\n\")"
   ]
  },
  {
   "cell_type": "code",
   "execution_count": 14,
   "id": "5d2447a9",
   "metadata": {},
   "outputs": [
    {
     "name": "stdout",
     "output_type": "stream",
     "text": [
      "==================================================\n",
      "DATA_CLASS_dataset nan value checking\n",
      "==================================================\n",
      "sample_id                   0\n",
      "label                       0\n",
      "cbo                         0\n",
      "wmc                         0\n",
      "dit                         0\n",
      "rfc                         0\n",
      "lcom                        0\n",
      "tcc                       296\n",
      "lcc                       296\n",
      "totalMethodsQty             0\n",
      "staticMethodsQty            0\n",
      "publicMethodsQty            0\n",
      "privateMethodsQty           0\n",
      "protectedMethodsQty         0\n",
      "defaultMethodsQty           0\n",
      "abstractMethodsQty          0\n",
      "finalMethodsQty             0\n",
      "synchronizedMethodsQty      0\n",
      "totalFieldsQty              0\n",
      "staticFieldsQty             0\n",
      "publicFieldsQty             0\n",
      "privateFieldsQty            0\n",
      "protectedFieldsQty          0\n",
      "defaultFieldsQty            0\n",
      "visibleFieldsQty            0\n",
      "finalFieldsQty              0\n",
      "synchronizedFieldsQty       0\n",
      "nosi                        0\n",
      "loc                         0\n",
      "returnQty                   0\n",
      "loopQty                     0\n",
      "comparisonsQty              0\n",
      "tryCatchQty                 0\n",
      "parenthesizedExpsQty        0\n",
      "stringLiteralsQty           0\n",
      "numbersQty                  0\n",
      "assignmentsQty              0\n",
      "mathOperationsQty           0\n",
      "variablesQty                0\n",
      "maxNestedBlocksQty          0\n",
      "anonymousClassesQty         0\n",
      "innerClassesQty             0\n",
      "lambdasQty                  0\n",
      "uniqueWordsQty              0\n",
      "modifiers                   0\n",
      "logStatementsQty            0\n",
      "from_project                0\n",
      "type_class                  0\n",
      "type_innerclass             0\n",
      "type_interface              0\n",
      "dtype: int64\n",
      "\n",
      "\n"
     ]
    }
   ],
   "source": [
    "print(\"=\"*50)\n",
    "print(\"DATA_CLASS_dataset nan value checking\")\n",
    "print(\"=\"*50)\n",
    "print(DATA_CLASS_dataset.isna().sum())\n",
    "print(\"\\n\")"
   ]
  },
  {
   "cell_type": "markdown",
   "id": "00848125",
   "metadata": {},
   "source": [
    "tcc and lcc columns are having lot of nan values in DATA_CLASS_dataset and GOD_dataset, so drop those columns"
   ]
  },
  {
   "cell_type": "code",
   "execution_count": 15,
   "id": "1b9d7763",
   "metadata": {},
   "outputs": [],
   "source": [
    "GOD_CLASS_dataset = GOD_CLASS_dataset.drop(['tcc','lcc'], axis = 1)\n",
    "DATA_CLASS_dataset = DATA_CLASS_dataset.drop(['tcc','lcc'],axis=1)\n",
    "# axis=0 refers to columns (operations are performed down rows).\n",
    "# axis=1 refers to rows (operations are performed across columns)."
   ]
  },
  {
   "cell_type": "code",
   "execution_count": null,
   "id": "32351904",
   "metadata": {},
   "outputs": [],
   "source": [
    "X_LONG_METHOD_dataset,y_LONG_METHOD_dataset = LONG_METHOD_dataset.drop(['sample_id','label'],axis=1).values,LONG_METHOD_dataset['label'].values\n",
    "X_GOD_CLASS_dataset,y_GOD_CLASS_dataset = GOD_CLASS_dataset.drop(['sample_id','label'],axis=1).values, GOD_CLASS_dataset['label'].values\n",
    "X_FEATURE_ENVY_dataset,y_FEATURE_ENVY_dataset = FEATURE_ENVY_dataset.drop(['sample_id','label'],axis = 1).values, FEATURE_ENVY_dataset['label'].values\n",
    "X_DATA_CLASS_dataset,y_DATA_CLASS_dataset = DATA_CLASS_dataset.drop(['sample_id','label'],axis = 1).values, DATA_CLASS_dataset['label'].values\n"
   ]
  },
  {
   "cell_type": "code",
   "execution_count": 17,
   "id": "89bc815e",
   "metadata": {},
   "outputs": [],
   "source": [
    "from sklearn.metrics import confusion_matrix, f1_score, matthews_corrcoef, roc_curve, auc\n",
    "\n",
    "def metrics(y_test,y_pred):\n",
    "    tn, fp, fn, tp = confusion_matrix(y_test,y_pred).ravel()\n",
    "    \n",
    "    precision = tp/(fp+tp)\n",
    "    \n",
    "    recall = tp/(tp+fn)\n",
    "    \n",
    "    f1score = f1_score(y_test,y_pred)\n",
    "    \n",
    "    mcc = matthews_corrcoef(y_test,y_pred)\n",
    "    \n",
    "    return precision, recall, f1score, mcc\n",
    "\n"
   ]
  },
  {
   "cell_type": "markdown",
   "id": "c70a9745",
   "metadata": {},
   "source": [
    "we will use cross validation technique because training and testing on single train test split whuch might give biased or unstable results, cross validation splits the data into muliple foldds and train on some folds and test on remaining ones, this process is repeated and results are averaged. This helps to reduce overfitting risk and better use of limited data and analysis across the folds for hypertuning"
   ]
  },
  {
   "cell_type": "markdown",
   "id": "90f7cc40",
   "metadata": {},
   "source": [
    "we will be using stratified kfold which splits the data into k equal parts and keeps the same ratio of classes in each split so that class balnce is preserved in every fold, whereas kfold randomly splits into k equal parts randomly which does not consider the class balancing"
   ]
  },
  {
   "cell_type": "code",
   "execution_count": 18,
   "id": "42ffabe3",
   "metadata": {},
   "outputs": [
    {
     "name": "stdout",
     "output_type": "stream",
     "text": [
      "[3 4 5 6 7 8] [0 1 2]\n",
      "[0 1 2 6 7 8] [3 4 5]\n",
      "[0 1 2 3 4 5] [6 7 8]\n"
     ]
    }
   ],
   "source": [
    "#example of kfold\n",
    "\n",
    "from sklearn.model_selection import KFold\n",
    "kf = KFold(n_splits=3)\n",
    "\n",
    "for train_index, test_index in kf.split([1,2,3,4,5,6,7,8,9]):\n",
    "    print(train_index, test_index)"
   ]
  },
  {
   "cell_type": "code",
   "execution_count": 19,
   "id": "92b57501",
   "metadata": {},
   "outputs": [],
   "source": [
    "def get_score(model, X_train,X_test, y_train,y_test):\n",
    "    model.fit(X_train,y_train)\n",
    "    return model.score(X_test,y_test)"
   ]
  },
  {
   "cell_type": "markdown",
   "id": "2daeca87",
   "metadata": {},
   "source": [
    "naive bayes theorem"
   ]
  },
  {
   "cell_type": "code",
   "execution_count": 21,
   "id": "19f3b39f",
   "metadata": {},
   "outputs": [
    {
     "name": "stdout",
     "output_type": "stream",
     "text": [
      "Best var_smoothing: 1e-05\n",
      "Best performance: Precision=0.9280, Recall=0.9057, F1=0.9131, MCC=0.6301\n"
     ]
    }
   ],
   "source": [
    "#using stratified kfold\n",
    "from sklearn.pipeline import Pipeline\n",
    "from sklearn.preprocessing import StandardScaler\n",
    "from sklearn.model_selection import StratifiedKFold\n",
    "from sklearn.naive_bayes import GaussianNB\n",
    "from sklearn.metrics import precision_score, confusion_matrix, auc, matthews_corrcoef, make_scorer, precision_score, recall_score, f1_score\n",
    "from sklearn.model_selection import GridSearchCV\n",
    "def naivebayes_train_test_kfold(X,y, feature_scaling = StandardScaler()):\n",
    "    if feature_scaling is not None:\n",
    "        pipeline = Pipeline(\n",
    "            [('scaler',StandardScaler()),\n",
    "             ('classifier', GaussianNB())\n",
    "             ]\n",
    "        )\n",
    "        param_grid = {\n",
    "            'classifier__var_smoothing': [1e-9, 1e-8, 1e-7, 1e-6, 1e-5]\n",
    "        }\n",
    "    else :\n",
    "        print(\"choose the scaler\")\n",
    "    \n",
    "    kfold = StratifiedKFold(n_splits=5,shuffle= True, random_state=42)\n",
    "    \n",
    "    scoring  = {\n",
    "       'precision_score' : make_scorer(precision_score, response_method='default', average = 'weighted'),\n",
    "       'recall_score' : make_scorer(recall_score, response_method = 'default', average = 'weighted'),\n",
    "        'f1_score' : make_scorer(f1_score, response_method = 'default', average = 'weighted'),\n",
    "       'matthews_correlation_coefficient' : make_scorer(matthews_corrcoef)\n",
    "    }\n",
    "    \n",
    "    gridsearch_cv = GridSearchCV(\n",
    "        estimator= pipeline,\n",
    "        param_grid=param_grid,\n",
    "        scoring= scoring,\n",
    "        cv = kfold,\n",
    "        n_jobs=1,\n",
    "        refit = 'f1_score'\n",
    "    )\n",
    "    \n",
    "    gridsearch_cv.fit(X,y)\n",
    "    \n",
    "    best_results= gridsearch_cv.cv_results_\n",
    "    best_idx = gridsearch_cv.best_index_\n",
    "    \n",
    "    best_performance = [\n",
    "        best_results['mean_test_precision_score'][best_idx],\n",
    "        best_results['mean_test_recall_score'][best_idx],\n",
    "        best_results['mean_test_f1_score'][best_idx],\n",
    "        best_results['mean_test_matthews_correlation_coefficient'][best_idx]\n",
    "    ]\n",
    "    \n",
    "    print(f\"Best var_smoothing: {gridsearch_cv.best_params_['classifier__var_smoothing']}\")\n",
    "    print(f\"Best performance: Precision={best_performance[0]:.4f}, Recall={best_performance[1]:.4f}, F1={best_performance[2]:.4f}, MCC={best_performance[3]:.4f}\")\n",
    "    \n",
    "    return best_performance, gridsearch_cv.best_estimator_\n",
    "    \n",
    "    \n",
    "best_performance,best_model = naivebayes_train_test_kfold(X_LONG_METHOD_dataset,y_LONG_METHOD_dataset, feature_scaling=StandardScaler())\n",
    "\n"
   ]
  }
 ],
 "metadata": {
  "kernelspec": {
   "display_name": "Python 3",
   "language": "python",
   "name": "python3"
  },
  "language_info": {
   "codemirror_mode": {
    "name": "ipython",
    "version": 3
   },
   "file_extension": ".py",
   "mimetype": "text/x-python",
   "name": "python",
   "nbconvert_exporter": "python",
   "pygments_lexer": "ipython3",
   "version": "3.10.1"
  }
 },
 "nbformat": 4,
 "nbformat_minor": 5
}
